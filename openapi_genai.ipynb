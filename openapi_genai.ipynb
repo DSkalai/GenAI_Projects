{
 "cells": [
  {
   "cell_type": "markdown",
   "metadata": {},
   "source": []
  },
  {
   "cell_type": "code",
   "execution_count": 7,
   "metadata": {},
   "outputs": [],
   "source": [
    "\n",
    "\n",
    "import openai\n",
    "openai.api_key = \"API KEY\"\n",
    "completion = openai.ChatCompletion.create(model=\"gpt-4o-mini\",\n",
    "                                          messages=[{\"role\": \"user\",\n",
    "                                                     \"content\": \"Give me 3 ideas for apps I could build with openai apis \"}])"
   ]
  },
  {
   "cell_type": "code",
   "execution_count": 8,
   "metadata": {},
   "outputs": [
    {
     "name": "stdout",
     "output_type": "stream",
     "text": [
      "Here are three innovative app ideas that leverage OpenAI's APIs:\n",
      "\n",
      "1. **Personalized Study Companion**:\n",
      "   - **Description**: An app that serves as a virtual study buddy for students. Users can input their subjects, topics, and preferred learning styles. The app utilizes OpenAI's language model to generate study materials, quizzes, and summaries tailored to the user's needs. It could also provide explanations, answer questions, and suggest additional resources or exercises.\n",
      "   - **Features**:\n",
      "     - Interactive quizzes and flashcards.\n",
      "     - Summarization of textbooks or lecture notes.\n",
      "     - AI-generated practice problems and solutions.\n",
      "     - Feedback loop for users to enhance AI responses based on their preferences.\n",
      "\n",
      "2. **Creative Writing Assistant**:\n",
      "   - **Description**: An app designed to aid writers—novelists, poets, and journalists—in brainstorming ideas, generating drafts, and refining their writing style. The app can offer prompts, suggest plot twists, or help with world-building. Writers can engage in a conversation with the AI to overcome writer's block and enhance creativity.\n",
      "   - **Features**:\n",
      "     - Prompt and idea generator for different genres.\n",
      "     - Style and tone suggestions based on user input.\n",
      "     - Collaborative writing mode for group projects.\n",
      "     - Vocabulary enhancement tools and writing style analysis.\n",
      "\n",
      "3. **Mental Wellness Chatbot**:\n",
      "   - **Description**: A conversational chatbot app aimed at supporting mental health and wellness. Users can engage with the chatbot to discuss their feelings, receive coping strategies, and have guided mindfulness exercises. The AI can provide emotional support and recommend helpful resources or activities based on users' inputs and moods.\n",
      "   - **Features**:\n",
      "     - Daily mood check-ins and journaling prompts.\n",
      "     - Guided meditation and breathing exercises.\n",
      "     - Customizable resources based on user preferences (e.g., articles, videos).\n",
      "     - Anonymized community forum for peer support and sharing experiences.\n",
      "\n",
      "These app ideas take advantage of the capabilities of OpenAI’s APIs to create engaging and useful experiences for users across different domains.\n"
     ]
    }
   ],
   "source": [
    "print(completion.choices[0].message.content)"
   ]
  },
  {
   "cell_type": "code",
   "execution_count": 12,
   "metadata": {},
   "outputs": [
    {
     "name": "stdout",
     "output_type": "stream",
     "text": [
      "Here are three innovative app ideas that leverage OpenAI's APIs:\n",
      "\n",
      "1. **Personalized Study Companion**:\n",
      "   - **Description**: An app that serves as a virtual study buddy for students. Users can input their subjects, topics, and preferred learning styles. The app utilizes OpenAI's language model to generate study materials, quizzes, and summaries tailored to the user's needs. It could also provide explanations, answer questions, and suggest additional resources or exercises.\n",
      "   - **Features**:\n",
      "     - Interactive quizzes and flashcards.\n",
      "     - Summarization of textbooks or lecture notes.\n",
      "     - AI-generated practice problems and solutions.\n",
      "     - Feedback loop for users to enhance AI responses based on their preferences.\n",
      "\n",
      "2. **Creative Writing Assistant**:\n",
      "   - **Description**: An app designed to aid writers—novelists, poets, and journalists—in brainstorming ideas, generating drafts, and refining their writing style. The app can offer prompts, suggest plot twists, or help with world-building. Writers can engage in a conversation with the AI to overcome writer's block and enhance creativity.\n",
      "   - **Features**:\n",
      "     - Prompt and idea generator for different genres.\n",
      "     - Style and tone suggestions based on user input.\n",
      "     - Collaborative writing mode for group projects.\n",
      "     - Vocabulary enhancement tools and writing style analysis.\n",
      "\n",
      "3. **Mental Wellness Chatbot**:\n",
      "   - **Description**: A conversational chatbot app aimed at supporting mental health and wellness. Users can engage with the chatbot to discuss their feelings, receive coping strategies, and have guided mindfulness exercises. The AI can provide emotional support and recommend helpful resources or activities based on users' inputs and moods.\n",
      "   - **Features**:\n",
      "     - Daily mood check-ins and journaling prompts.\n",
      "     - Guided meditation and breathing exercises.\n",
      "     - Customizable resources based on user preferences (e.g., articles, videos).\n",
      "     - Anonymized community forum for peer support and sharing experiences.\n",
      "\n",
      "These app ideas take advantage of the capabilities of OpenAI’s APIs to create engaging and useful experiences for users across different domains.\n"
     ]
    }
   ],
   "source": [
    "print(completion.choices[0].message.content)"
   ]
  }
 ],
 "metadata": {
  "kernelspec": {
   "display_name": "base",
   "language": "python",
   "name": "python3"
  },
  "language_info": {
   "codemirror_mode": {
    "name": "ipython",
    "version": 3
   },
   "file_extension": ".py",
   "mimetype": "text/x-python",
   "name": "python",
   "nbconvert_exporter": "python",
   "pygments_lexer": "ipython3",
   "version": "3.12.7"
  }
 },
 "nbformat": 4,
 "nbformat_minor": 2
}
